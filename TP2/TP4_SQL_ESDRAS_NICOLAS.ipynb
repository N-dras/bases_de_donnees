{
 "cells": [
  {
   "cell_type": "markdown",
   "metadata": {},
   "source": [
    "## TP N°4 de Bases de Données\n",
    "Accès aux données avec Python et construction d'un schéma en étoile"
   ]
  },
  {
   "cell_type": "code",
   "execution_count": 1,
   "metadata": {},
   "outputs": [],
   "source": [
    "import sqlite3\n",
    "import pandas as pd"
   ]
  },
  {
   "cell_type": "markdown",
   "metadata": {},
   "source": [
    "### Question 1"
   ]
  },
  {
   "cell_type": "code",
   "execution_count": 2,
   "metadata": {},
   "outputs": [],
   "source": [
    "db = \"TP_python_sqlite.db\" #Avoir le base de donnée au même endroit que le notebook\n",
    "conn = sqlite3.connect(db)"
   ]
  },
  {
   "cell_type": "markdown",
   "metadata": {},
   "source": [
    "### Question 2"
   ]
  },
  {
   "cell_type": "code",
   "execution_count": 3,
   "metadata": {},
   "outputs": [
    {
     "name": "stdout",
     "output_type": "stream",
     "text": [
      "[('Store No. 1', '999 Main Street', 'New York', 'New York', 'NY', 'Jones', 'Modern'), ('Store No. 2', '73 Main Street', 'Chicago', 'Cook', 'IL', 'Smith', 'Original'), ('Store No. 3', '1 Main Street', 'Atlanta', 'Fulton', 'GA', 'Davis', 'Compact'), ('Store No. 4', '575 Main Street', 'Los Angeles', 'Los Angeles', 'CA', 'Johnson', 'Modern'), ('Store No. 5', '123 Main Street', 'San Francisco', 'San Francisco', 'CA', 'Green', 'Original'), ('Store No. 6', '353 Main Street', 'Philadelphia', 'Philadelphia', 'PA', 'Brown', 'Compact'), ('Store No. 7', '839 Main Street', 'Pittsburgh', 'Allegheny', 'PA', 'White', 'Modern'), ('Store No. 8', '651 Main Street', 'New Orleans', 'Orleans', 'LA', 'Williams', 'Original'), ('Store No. 9', '912 Main Street', 'Seattle', 'King', 'WA', 'Stuber', 'Compact'), ('Store No. 10', '752 Main Street', 'Dallas', 'Dallas', 'TX', 'Merz', 'Modern'), ('Store No. 11', '55 Main Street', 'Cincinnati', 'Hamilton', 'OH', 'Erickson', 'Original'), ('Store No. 12', '546 Main Street', 'Minneapolis', 'Hennepin', 'MN', 'Kalman', 'Compact'), ('Store No. 14', '968 Main Street', 'Phoenix', 'Maricopa', 'AZ', 'Strehlo', 'Original'), ('Store No. 15', '228 Main Street', 'Denver', 'Denver', 'CO', 'Ollom', 'Compact'), ('Store No. 16', '333 Main Street', 'St. Louis', 'St. Louis', 'MO', 'Mantle', 'Modern'), ('Store No. 17', '764 Main Street', 'Washington', 'DC', 'DC', 'Mays', 'Original'), ('Store No. 18', '253 Main Street', 'Miami', 'Dade', 'FL', 'Maris', 'Compact'), ('Store No. 19', '999 Main Street', 'Boston', 'Suffolk', 'MA', 'Ruth', 'Modern'), ('Store No. 20', '160 Main Street', 'Nashville', 'Davidson', 'TN', 'Cobb', 'Original')]\n"
     ]
    }
   ],
   "source": [
    "#Solution avec le fetchall\n",
    "\n",
    "cur = conn.cursor()\n",
    "cur.execute(\"SELECT * FROM MAGASIN\")\n",
    "results_all = cur.fetchall()\n",
    "print(results_all)"
   ]
  },
  {
   "cell_type": "code",
   "execution_count": 4,
   "metadata": {},
   "outputs": [
    {
     "name": "stdout",
     "output_type": "stream",
     "text": [
      "('Store No. 1', '999 Main Street', 'New York', 'New York', 'NY', 'Jones', 'Modern')\n",
      "('Store No. 2', '73 Main Street', 'Chicago', 'Cook', 'IL', 'Smith', 'Original')\n",
      "('Store No. 3', '1 Main Street', 'Atlanta', 'Fulton', 'GA', 'Davis', 'Compact')\n",
      "('Store No. 4', '575 Main Street', 'Los Angeles', 'Los Angeles', 'CA', 'Johnson', 'Modern')\n",
      "('Store No. 5', '123 Main Street', 'San Francisco', 'San Francisco', 'CA', 'Green', 'Original')\n",
      "('Store No. 6', '353 Main Street', 'Philadelphia', 'Philadelphia', 'PA', 'Brown', 'Compact')\n",
      "('Store No. 7', '839 Main Street', 'Pittsburgh', 'Allegheny', 'PA', 'White', 'Modern')\n",
      "('Store No. 8', '651 Main Street', 'New Orleans', 'Orleans', 'LA', 'Williams', 'Original')\n",
      "('Store No. 9', '912 Main Street', 'Seattle', 'King', 'WA', 'Stuber', 'Compact')\n",
      "('Store No. 10', '752 Main Street', 'Dallas', 'Dallas', 'TX', 'Merz', 'Modern')\n",
      "('Store No. 11', '55 Main Street', 'Cincinnati', 'Hamilton', 'OH', 'Erickson', 'Original')\n",
      "('Store No. 12', '546 Main Street', 'Minneapolis', 'Hennepin', 'MN', 'Kalman', 'Compact')\n",
      "('Store No. 14', '968 Main Street', 'Phoenix', 'Maricopa', 'AZ', 'Strehlo', 'Original')\n",
      "('Store No. 15', '228 Main Street', 'Denver', 'Denver', 'CO', 'Ollom', 'Compact')\n",
      "('Store No. 16', '333 Main Street', 'St. Louis', 'St. Louis', 'MO', 'Mantle', 'Modern')\n",
      "('Store No. 17', '764 Main Street', 'Washington', 'DC', 'DC', 'Mays', 'Original')\n",
      "('Store No. 18', '253 Main Street', 'Miami', 'Dade', 'FL', 'Maris', 'Compact')\n",
      "('Store No. 19', '999 Main Street', 'Boston', 'Suffolk', 'MA', 'Ruth', 'Modern')\n",
      "('Store No. 20', '160 Main Street', 'Nashville', 'Davidson', 'TN', 'Cobb', 'Original')\n"
     ]
    }
   ],
   "source": [
    "#Solution avec fetchone\n",
    "\n",
    "cur = conn.cursor()\n",
    "cur.execute(\"SELECT * FROM MAGASIN\")\n",
    "while True:\n",
    "    results_one = cur.fetchone()\n",
    "    if results_one == None:\n",
    "        break\n",
    "    else:\n",
    "        print(results_one)"
   ]
  },
  {
   "cell_type": "markdown",
   "metadata": {},
   "source": [
    "### Question 3"
   ]
  },
  {
   "cell_type": "code",
   "execution_count": 5,
   "metadata": {},
   "outputs": [
    {
     "data": {
      "text/html": [
       "<div>\n",
       "<style scoped>\n",
       "    .dataframe tbody tr th:only-of-type {\n",
       "        vertical-align: middle;\n",
       "    }\n",
       "\n",
       "    .dataframe tbody tr th {\n",
       "        vertical-align: top;\n",
       "    }\n",
       "\n",
       "    .dataframe thead th {\n",
       "        text-align: right;\n",
       "    }\n",
       "</style>\n",
       "<table border=\"1\" class=\"dataframe\">\n",
       "  <thead>\n",
       "    <tr style=\"text-align: right;\">\n",
       "      <th></th>\n",
       "      <th>NOM</th>\n",
       "      <th>ADRESSE</th>\n",
       "      <th>VILLE</th>\n",
       "      <th>COMTE</th>\n",
       "      <th>ETAT</th>\n",
       "      <th>MANAGER</th>\n",
       "      <th>TYPE</th>\n",
       "    </tr>\n",
       "  </thead>\n",
       "  <tbody>\n",
       "    <tr>\n",
       "      <th>0</th>\n",
       "      <td>Store No. 1</td>\n",
       "      <td>999 Main Street</td>\n",
       "      <td>New York</td>\n",
       "      <td>New York</td>\n",
       "      <td>NY</td>\n",
       "      <td>Jones</td>\n",
       "      <td>Modern</td>\n",
       "    </tr>\n",
       "    <tr>\n",
       "      <th>1</th>\n",
       "      <td>Store No. 2</td>\n",
       "      <td>73 Main Street</td>\n",
       "      <td>Chicago</td>\n",
       "      <td>Cook</td>\n",
       "      <td>IL</td>\n",
       "      <td>Smith</td>\n",
       "      <td>Original</td>\n",
       "    </tr>\n",
       "    <tr>\n",
       "      <th>2</th>\n",
       "      <td>Store No. 3</td>\n",
       "      <td>1 Main Street</td>\n",
       "      <td>Atlanta</td>\n",
       "      <td>Fulton</td>\n",
       "      <td>GA</td>\n",
       "      <td>Davis</td>\n",
       "      <td>Compact</td>\n",
       "    </tr>\n",
       "    <tr>\n",
       "      <th>3</th>\n",
       "      <td>Store No. 4</td>\n",
       "      <td>575 Main Street</td>\n",
       "      <td>Los Angeles</td>\n",
       "      <td>Los Angeles</td>\n",
       "      <td>CA</td>\n",
       "      <td>Johnson</td>\n",
       "      <td>Modern</td>\n",
       "    </tr>\n",
       "    <tr>\n",
       "      <th>4</th>\n",
       "      <td>Store No. 5</td>\n",
       "      <td>123 Main Street</td>\n",
       "      <td>San Francisco</td>\n",
       "      <td>San Francisco</td>\n",
       "      <td>CA</td>\n",
       "      <td>Green</td>\n",
       "      <td>Original</td>\n",
       "    </tr>\n",
       "    <tr>\n",
       "      <th>5</th>\n",
       "      <td>Store No. 6</td>\n",
       "      <td>353 Main Street</td>\n",
       "      <td>Philadelphia</td>\n",
       "      <td>Philadelphia</td>\n",
       "      <td>PA</td>\n",
       "      <td>Brown</td>\n",
       "      <td>Compact</td>\n",
       "    </tr>\n",
       "    <tr>\n",
       "      <th>6</th>\n",
       "      <td>Store No. 7</td>\n",
       "      <td>839 Main Street</td>\n",
       "      <td>Pittsburgh</td>\n",
       "      <td>Allegheny</td>\n",
       "      <td>PA</td>\n",
       "      <td>White</td>\n",
       "      <td>Modern</td>\n",
       "    </tr>\n",
       "    <tr>\n",
       "      <th>7</th>\n",
       "      <td>Store No. 8</td>\n",
       "      <td>651 Main Street</td>\n",
       "      <td>New Orleans</td>\n",
       "      <td>Orleans</td>\n",
       "      <td>LA</td>\n",
       "      <td>Williams</td>\n",
       "      <td>Original</td>\n",
       "    </tr>\n",
       "    <tr>\n",
       "      <th>8</th>\n",
       "      <td>Store No. 9</td>\n",
       "      <td>912 Main Street</td>\n",
       "      <td>Seattle</td>\n",
       "      <td>King</td>\n",
       "      <td>WA</td>\n",
       "      <td>Stuber</td>\n",
       "      <td>Compact</td>\n",
       "    </tr>\n",
       "    <tr>\n",
       "      <th>9</th>\n",
       "      <td>Store No. 10</td>\n",
       "      <td>752 Main Street</td>\n",
       "      <td>Dallas</td>\n",
       "      <td>Dallas</td>\n",
       "      <td>TX</td>\n",
       "      <td>Merz</td>\n",
       "      <td>Modern</td>\n",
       "    </tr>\n",
       "    <tr>\n",
       "      <th>10</th>\n",
       "      <td>Store No. 11</td>\n",
       "      <td>55 Main Street</td>\n",
       "      <td>Cincinnati</td>\n",
       "      <td>Hamilton</td>\n",
       "      <td>OH</td>\n",
       "      <td>Erickson</td>\n",
       "      <td>Original</td>\n",
       "    </tr>\n",
       "    <tr>\n",
       "      <th>11</th>\n",
       "      <td>Store No. 12</td>\n",
       "      <td>546 Main Street</td>\n",
       "      <td>Minneapolis</td>\n",
       "      <td>Hennepin</td>\n",
       "      <td>MN</td>\n",
       "      <td>Kalman</td>\n",
       "      <td>Compact</td>\n",
       "    </tr>\n",
       "    <tr>\n",
       "      <th>12</th>\n",
       "      <td>Store No. 14</td>\n",
       "      <td>968 Main Street</td>\n",
       "      <td>Phoenix</td>\n",
       "      <td>Maricopa</td>\n",
       "      <td>AZ</td>\n",
       "      <td>Strehlo</td>\n",
       "      <td>Original</td>\n",
       "    </tr>\n",
       "    <tr>\n",
       "      <th>13</th>\n",
       "      <td>Store No. 15</td>\n",
       "      <td>228 Main Street</td>\n",
       "      <td>Denver</td>\n",
       "      <td>Denver</td>\n",
       "      <td>CO</td>\n",
       "      <td>Ollom</td>\n",
       "      <td>Compact</td>\n",
       "    </tr>\n",
       "    <tr>\n",
       "      <th>14</th>\n",
       "      <td>Store No. 16</td>\n",
       "      <td>333 Main Street</td>\n",
       "      <td>St. Louis</td>\n",
       "      <td>St. Louis</td>\n",
       "      <td>MO</td>\n",
       "      <td>Mantle</td>\n",
       "      <td>Modern</td>\n",
       "    </tr>\n",
       "    <tr>\n",
       "      <th>15</th>\n",
       "      <td>Store No. 17</td>\n",
       "      <td>764 Main Street</td>\n",
       "      <td>Washington</td>\n",
       "      <td>DC</td>\n",
       "      <td>DC</td>\n",
       "      <td>Mays</td>\n",
       "      <td>Original</td>\n",
       "    </tr>\n",
       "    <tr>\n",
       "      <th>16</th>\n",
       "      <td>Store No. 18</td>\n",
       "      <td>253 Main Street</td>\n",
       "      <td>Miami</td>\n",
       "      <td>Dade</td>\n",
       "      <td>FL</td>\n",
       "      <td>Maris</td>\n",
       "      <td>Compact</td>\n",
       "    </tr>\n",
       "    <tr>\n",
       "      <th>17</th>\n",
       "      <td>Store No. 19</td>\n",
       "      <td>999 Main Street</td>\n",
       "      <td>Boston</td>\n",
       "      <td>Suffolk</td>\n",
       "      <td>MA</td>\n",
       "      <td>Ruth</td>\n",
       "      <td>Modern</td>\n",
       "    </tr>\n",
       "    <tr>\n",
       "      <th>18</th>\n",
       "      <td>Store No. 20</td>\n",
       "      <td>160 Main Street</td>\n",
       "      <td>Nashville</td>\n",
       "      <td>Davidson</td>\n",
       "      <td>TN</td>\n",
       "      <td>Cobb</td>\n",
       "      <td>Original</td>\n",
       "    </tr>\n",
       "  </tbody>\n",
       "</table>\n",
       "</div>"
      ],
      "text/plain": [
       "             NOM          ADRESSE          VILLE          COMTE ETAT  \\\n",
       "0    Store No. 1  999 Main Street       New York       New York   NY   \n",
       "1    Store No. 2   73 Main Street        Chicago           Cook   IL   \n",
       "2    Store No. 3    1 Main Street        Atlanta         Fulton   GA   \n",
       "3    Store No. 4  575 Main Street    Los Angeles    Los Angeles   CA   \n",
       "4    Store No. 5  123 Main Street  San Francisco  San Francisco   CA   \n",
       "5    Store No. 6  353 Main Street   Philadelphia   Philadelphia   PA   \n",
       "6    Store No. 7  839 Main Street     Pittsburgh      Allegheny   PA   \n",
       "7    Store No. 8  651 Main Street    New Orleans        Orleans   LA   \n",
       "8    Store No. 9  912 Main Street        Seattle           King   WA   \n",
       "9   Store No. 10  752 Main Street         Dallas         Dallas   TX   \n",
       "10  Store No. 11   55 Main Street     Cincinnati       Hamilton   OH   \n",
       "11  Store No. 12  546 Main Street    Minneapolis       Hennepin   MN   \n",
       "12  Store No. 14  968 Main Street        Phoenix       Maricopa   AZ   \n",
       "13  Store No. 15  228 Main Street         Denver         Denver   CO   \n",
       "14  Store No. 16  333 Main Street      St. Louis      St. Louis   MO   \n",
       "15  Store No. 17  764 Main Street     Washington             DC   DC   \n",
       "16  Store No. 18  253 Main Street          Miami           Dade   FL   \n",
       "17  Store No. 19  999 Main Street         Boston        Suffolk   MA   \n",
       "18  Store No. 20  160 Main Street      Nashville       Davidson   TN   \n",
       "\n",
       "     MANAGER      TYPE  \n",
       "0      Jones    Modern  \n",
       "1      Smith  Original  \n",
       "2      Davis   Compact  \n",
       "3    Johnson    Modern  \n",
       "4      Green  Original  \n",
       "5      Brown   Compact  \n",
       "6      White    Modern  \n",
       "7   Williams  Original  \n",
       "8     Stuber   Compact  \n",
       "9       Merz    Modern  \n",
       "10  Erickson  Original  \n",
       "11    Kalman   Compact  \n",
       "12   Strehlo  Original  \n",
       "13     Ollom   Compact  \n",
       "14    Mantle    Modern  \n",
       "15      Mays  Original  \n",
       "16     Maris   Compact  \n",
       "17      Ruth    Modern  \n",
       "18      Cobb  Original  "
      ]
     },
     "execution_count": 5,
     "metadata": {},
     "output_type": "execute_result"
    }
   ],
   "source": [
    "df = pd.read_sql_query(\"SELECT * FROM MAGASIN\", conn)\n",
    "df"
   ]
  },
  {
   "cell_type": "markdown",
   "metadata": {},
   "source": [
    "### Question 4"
   ]
  },
  {
   "cell_type": "code",
   "execution_count": 6,
   "metadata": {},
   "outputs": [],
   "source": [
    "cur.close()\n",
    "conn.close()"
   ]
  },
  {
   "cell_type": "code",
   "execution_count": 7,
   "metadata": {},
   "outputs": [],
   "source": [
    "conn = sqlite3.connect(db)"
   ]
  },
  {
   "cell_type": "markdown",
   "metadata": {},
   "source": [
    "Si la table \"EMPLOYE\" est présente dans la base de données, il faut la supprimer, puis enregistrer la base de données et relancer le NoteBook."
   ]
  },
  {
   "cell_type": "code",
   "execution_count": 8,
   "metadata": {},
   "outputs": [
    {
     "data": {
      "text/plain": [
       "<sqlite3.Cursor at 0x7fcec1f7e3b0>"
      ]
     },
     "execution_count": 8,
     "metadata": {},
     "output_type": "execute_result"
    }
   ],
   "source": [
    "cur = conn.cursor()\n",
    "cur.execute('''CREATE TABLE EMPLOYE\n",
    "    (NOM TEXT PRIMARY KEY,AGE INTEGER NOT NULL);''')"
   ]
  },
  {
   "cell_type": "markdown",
   "metadata": {},
   "source": [
    "### Question 5"
   ]
  },
  {
   "cell_type": "code",
   "execution_count": 9,
   "metadata": {},
   "outputs": [
    {
     "data": {
      "text/plain": [
       "<sqlite3.Cursor at 0x7fcec1f7e490>"
      ]
     },
     "execution_count": 9,
     "metadata": {},
     "output_type": "execute_result"
    }
   ],
   "source": [
    "cur = conn.cursor()\n",
    "cur.execute(\"\"\"INSERT INTO EMPLOYE (NOM,AGE) VALUES ('toto',25);\"\"\")"
   ]
  },
  {
   "cell_type": "markdown",
   "metadata": {},
   "source": [
    "### Question 6"
   ]
  },
  {
   "cell_type": "code",
   "execution_count": 10,
   "metadata": {},
   "outputs": [
    {
     "name": "stdout",
     "output_type": "stream",
     "text": [
      "('toto', 25)\n"
     ]
    }
   ],
   "source": [
    "cur = conn.cursor()\n",
    "cur.execute(\"SELECT * FROM EMPLOYE\")\n",
    "while True:\n",
    "    results_db = cur.fetchone()\n",
    "    if results_db == None:\n",
    "        break\n",
    "    else:\n",
    "        print(results_db)"
   ]
  },
  {
   "cell_type": "markdown",
   "metadata": {},
   "source": [
    "La mise à jour n'est pas visible dans \"DB BROWSER\""
   ]
  },
  {
   "cell_type": "markdown",
   "metadata": {},
   "source": [
    "### Question 7"
   ]
  },
  {
   "cell_type": "code",
   "execution_count": 11,
   "metadata": {},
   "outputs": [],
   "source": [
    "conn.commit() #Permet de rendre la mise à jour permanente"
   ]
  },
  {
   "cell_type": "markdown",
   "metadata": {},
   "source": [
    "### Question 8"
   ]
  },
  {
   "cell_type": "code",
   "execution_count": 12,
   "metadata": {},
   "outputs": [
    {
     "name": "stdout",
     "output_type": "stream",
     "text": [
      "Entrez votre nom : ESDRAS\n",
      "Entrez votre age : 24\n"
     ]
    }
   ],
   "source": [
    "nom = input('Entrez votre nom : ')\n",
    "age = input('Entrez votre age : ')\n",
    "\n",
    "cur = conn.cursor()\n",
    "cur.execute(\"\"\"INSERT INTO EMPLOYE (NOM,AGE) VALUES (?,?)\"\"\", (nom,age))\n",
    "conn.commit()"
   ]
  },
  {
   "cell_type": "markdown",
   "metadata": {},
   "source": [
    "### Question 9"
   ]
  },
  {
   "cell_type": "code",
   "execution_count": 13,
   "metadata": {},
   "outputs": [
    {
     "name": "stdout",
     "output_type": "stream",
     "text": [
      "Saisir un etat : CA\n",
      "[('Store No. 4', '575 Main Street', 'Los Angeles', 'Los Angeles', 'CA', 'Johnson', 'Modern'), ('Store No. 5', '123 Main Street', 'San Francisco', 'San Francisco', 'CA', 'Green', 'Original')]\n"
     ]
    }
   ],
   "source": [
    "etat = input('Saisir un etat : ')\n",
    "\n",
    "cur = conn.cursor()\n",
    "cur.execute('''SELECT * FROM MAGASIN WHERE ETAT=?''',(etat,))\n",
    "results_etat = cur.fetchall()\n",
    "print(results_etat)"
   ]
  }
 ],
 "metadata": {
  "kernelspec": {
   "display_name": "Python 3 (ipykernel)",
   "language": "python",
   "name": "python3"
  },
  "language_info": {
   "codemirror_mode": {
    "name": "ipython",
    "version": 3
   },
   "file_extension": ".py",
   "mimetype": "text/x-python",
   "name": "python",
   "nbconvert_exporter": "python",
   "pygments_lexer": "ipython3",
   "version": "3.9.7"
  }
 },
 "nbformat": 4,
 "nbformat_minor": 4
}
